{
 "cells": [
  {
   "cell_type": "markdown",
   "metadata": {},
   "source": [
    "# Projet maison n° 3"
   ]
  },
  {
   "cell_type": "code",
   "execution_count": 1,
   "metadata": {},
   "outputs": [],
   "source": [
    "# imports\n",
    "import pandas as pd"
   ]
  },
  {
   "cell_type": "markdown",
   "metadata": {},
   "source": [
    "## 1. US baby names\n",
    "\n",
    "On va s'intéresser au dataset **National data** de la SSA : https://www.ssa.gov/oact/babynames/limits.html\n",
    "\n",
    "1. Télécharger le dataset des prénoms US : https://www.ssa.gov/oact/babynames/names.zip\n",
    "\n",
    "Lire la documentation associée.\n",
    "\n",
    "2. Implémenter une fonction Python `df_names_us()` qui produit un unique DataFrame avec tous les fichiers en utilisant **pandas** (par ex. avec la fonction `pandas.concat()`), pas de bash :)\n",
    "\n",
    "Ordre et noms des colonnes du DataFrame : \"year\", \"name\", \"gender\", \"births\"\n",
    "\n",
    "Le DataFrame doit être trié selon l'année croissante puis selon l'ordre défini dans les différents fichiers (voir la documentation du dataset)."
   ]
  },
  {
   "cell_type": "code",
   "execution_count": 2,
   "metadata": {},
   "outputs": [],
   "source": [
    "# names us\n",
    "def df_names_us():\n",
    "    \n",
    "    df = pd.DataFrame()\n",
    "    \n",
    "    import os\n",
    "    \n",
    "    for filename in os.scandir('names'):\n",
    "        if (filename.is_file()) & (filename.path.endswith('txt')):\n",
    "            df_fichier = pd.read_csv(filename.path, header=None).rename(columns={0:'name' , 1:'gender' , 2:'births'})\n",
    "            annee = filename.path[-8:-4]\n",
    "            df_fichier['year'] = int(annee)\n",
    "            df_fichier = df_fichier.reindex(columns=['year', 'name', 'gender', 'births'])\n",
    "            df = pd.concat([df, df_fichier]).reset_index(drop=True)\n",
    "    \n",
    "    df['year'] = df['year'].astype('uint16')\n",
    "    df['births'] = df['births'].astype('uint32')\n",
    "\n",
    "    df = df.sort_values(['year', 'gender', 'births', 'name'], ascending = [True, True, False, True]).reset_index(drop=True)\n",
    "    \n",
    "    df = df.drop_duplicates().reset_index(drop=True)\n",
    "        \n",
    "    return df"
   ]
  },
  {
   "cell_type": "code",
   "execution_count": 3,
   "metadata": {},
   "outputs": [
    {
     "data": {
      "text/html": [
       "<div>\n",
       "<style scoped>\n",
       "    .dataframe tbody tr th:only-of-type {\n",
       "        vertical-align: middle;\n",
       "    }\n",
       "\n",
       "    .dataframe tbody tr th {\n",
       "        vertical-align: top;\n",
       "    }\n",
       "\n",
       "    .dataframe thead th {\n",
       "        text-align: right;\n",
       "    }\n",
       "</style>\n",
       "<table border=\"1\" class=\"dataframe\">\n",
       "  <thead>\n",
       "    <tr style=\"text-align: right;\">\n",
       "      <th></th>\n",
       "      <th>year</th>\n",
       "      <th>name</th>\n",
       "      <th>gender</th>\n",
       "      <th>births</th>\n",
       "    </tr>\n",
       "  </thead>\n",
       "  <tbody>\n",
       "    <tr>\n",
       "      <th>0</th>\n",
       "      <td>1880</td>\n",
       "      <td>Mary</td>\n",
       "      <td>F</td>\n",
       "      <td>7065</td>\n",
       "    </tr>\n",
       "    <tr>\n",
       "      <th>1</th>\n",
       "      <td>1880</td>\n",
       "      <td>Anna</td>\n",
       "      <td>F</td>\n",
       "      <td>2604</td>\n",
       "    </tr>\n",
       "    <tr>\n",
       "      <th>2</th>\n",
       "      <td>1880</td>\n",
       "      <td>Emma</td>\n",
       "      <td>F</td>\n",
       "      <td>2003</td>\n",
       "    </tr>\n",
       "    <tr>\n",
       "      <th>3</th>\n",
       "      <td>1880</td>\n",
       "      <td>Elizabeth</td>\n",
       "      <td>F</td>\n",
       "      <td>1939</td>\n",
       "    </tr>\n",
       "    <tr>\n",
       "      <th>4</th>\n",
       "      <td>1880</td>\n",
       "      <td>Minnie</td>\n",
       "      <td>F</td>\n",
       "      <td>1746</td>\n",
       "    </tr>\n",
       "    <tr>\n",
       "      <th>...</th>\n",
       "      <td>...</td>\n",
       "      <td>...</td>\n",
       "      <td>...</td>\n",
       "      <td>...</td>\n",
       "    </tr>\n",
       "    <tr>\n",
       "      <th>2052776</th>\n",
       "      <td>2021</td>\n",
       "      <td>Zyeire</td>\n",
       "      <td>M</td>\n",
       "      <td>5</td>\n",
       "    </tr>\n",
       "    <tr>\n",
       "      <th>2052777</th>\n",
       "      <td>2021</td>\n",
       "      <td>Zyel</td>\n",
       "      <td>M</td>\n",
       "      <td>5</td>\n",
       "    </tr>\n",
       "    <tr>\n",
       "      <th>2052778</th>\n",
       "      <td>2021</td>\n",
       "      <td>Zyian</td>\n",
       "      <td>M</td>\n",
       "      <td>5</td>\n",
       "    </tr>\n",
       "    <tr>\n",
       "      <th>2052779</th>\n",
       "      <td>2021</td>\n",
       "      <td>Zylar</td>\n",
       "      <td>M</td>\n",
       "      <td>5</td>\n",
       "    </tr>\n",
       "    <tr>\n",
       "      <th>2052780</th>\n",
       "      <td>2021</td>\n",
       "      <td>Zyn</td>\n",
       "      <td>M</td>\n",
       "      <td>5</td>\n",
       "    </tr>\n",
       "  </tbody>\n",
       "</table>\n",
       "<p>2052781 rows × 4 columns</p>\n",
       "</div>"
      ],
      "text/plain": [
       "         year       name gender  births\n",
       "0        1880       Mary      F    7065\n",
       "1        1880       Anna      F    2604\n",
       "2        1880       Emma      F    2003\n",
       "3        1880  Elizabeth      F    1939\n",
       "4        1880     Minnie      F    1746\n",
       "...       ...        ...    ...     ...\n",
       "2052776  2021     Zyeire      M       5\n",
       "2052777  2021       Zyel      M       5\n",
       "2052778  2021      Zyian      M       5\n",
       "2052779  2021      Zylar      M       5\n",
       "2052780  2021        Zyn      M       5\n",
       "\n",
       "[2052781 rows x 4 columns]"
      ]
     },
     "execution_count": 3,
     "metadata": {},
     "output_type": "execute_result"
    }
   ],
   "source": [
    "df_us = df_names_us()\n",
    "df_us"
   ]
  },
  {
   "cell_type": "code",
   "execution_count": 4,
   "metadata": {},
   "outputs": [
    {
     "name": "stdout",
     "output_type": "stream",
     "text": [
      "<class 'pandas.core.frame.DataFrame'>\n",
      "RangeIndex: 2052781 entries, 0 to 2052780\n",
      "Data columns (total 4 columns):\n",
      " #   Column  Dtype \n",
      "---  ------  ----- \n",
      " 0   year    uint16\n",
      " 1   name    object\n",
      " 2   gender  object\n",
      " 3   births  uint32\n",
      "dtypes: object(2), uint16(1), uint32(1)\n",
      "memory usage: 43.1+ MB\n"
     ]
    }
   ],
   "source": [
    "df_us.info()"
   ]
  },
  {
   "cell_type": "code",
   "execution_count": 5,
   "metadata": {},
   "outputs": [
    {
     "data": {
      "text/plain": [
       "True"
      ]
     },
     "execution_count": 5,
     "metadata": {},
     "output_type": "execute_result"
    }
   ],
   "source": [
    "df_us['gender'].isin(['F','M']).all()"
   ]
  },
  {
   "cell_type": "code",
   "execution_count": 6,
   "metadata": {},
   "outputs": [
    {
     "data": {
      "text/plain": [
       "False    2052781\n",
       "dtype: int64"
      ]
     },
     "execution_count": 6,
     "metadata": {},
     "output_type": "execute_result"
    }
   ],
   "source": [
    "df_us.duplicated().value_counts()\n",
    "# ==> Pas de lignes dupliquées"
   ]
  },
  {
   "cell_type": "code",
   "execution_count": 7,
   "metadata": {},
   "outputs": [
    {
     "data": {
      "text/plain": [
       "0"
      ]
     },
     "execution_count": 7,
     "metadata": {},
     "output_type": "execute_result"
    }
   ],
   "source": [
    "len(df_us.loc[df_us.isna().any(axis=1)])\n",
    "# ==> Pas de ligne avec au moins un NaN"
   ]
  },
  {
   "cell_type": "markdown",
   "metadata": {},
   "source": [
    "## 2. Prénoms français"
   ]
  },
  {
   "cell_type": "markdown",
   "metadata": {},
   "source": [
    "On va s'intéresser au dataset **Fichiers France hors Mayotte** de l'INSEE :  https://www.insee.fr/fr/statistiques/2540004/\n",
    "\n",
    "L'idée est de charger les données et ensuite de les conformer au DataFrame des prénoms US. Ainsi, toute manipulation sur le DataFrame des prénoms US pourra être directement réutilisée avec le DataFrame des prénoms français.\n",
    " \n",
    "1. Télécharger le dataset des prénoms français : https://www.insee.fr/fr/statistiques/fichier/2540004/nat2021_csv.zip\n",
    "\n",
    "\n",
    "Lire la documentation, ça peut être utile...\n",
    " \n",
    "2. Implémenter une fonction `df_names_fr()` qui produit un DataFrame avec les prénoms français en prenant le DataFrame des prénoms US comme modèle :\n",
    " \n",
    " - Même ordre et mêmes noms des colonnes : \"year\", \"name\", \"gender\", \"births\"\n",
    " - Mêmes dtypes pour les colonnes\n",
    " - Mêmes valeurs pour la colonne \"gender\"\n",
    " - Seuls les prénoms de 2 caractères et plus sont conservés\n",
    " - La casse des prénoms doit être identique : initiales en majuscule, autres lettres en minuscule\n",
    " - Les lignes avec des données inutilisables doivent être supprimées\n",
    " - Les données sont triées à l'identique : year (↑), puis gender (↑), puis births (↓) et enfin name (↑)\n",
    " - L'index du DataFrame doit aller de 0 à N-1"
   ]
  },
  {
   "cell_type": "code",
   "execution_count": 8,
   "metadata": {},
   "outputs": [],
   "source": [
    "# names fr\n",
    "def df_names_fr():\n",
    "    \n",
    "    import re\n",
    "    \n",
    "    df = pd.read_csv('nat2021.csv', sep=';', header=None, skiprows=1, names=['gender', 'name', 'year', 'births'], keep_default_na=False)\n",
    "    df = df.reindex(columns=['year', 'name', 'gender', 'births'])\n",
    "    \n",
    "    df = df.drop_duplicates().reset_index(drop=True)\n",
    "    \n",
    "    # Traitement de la colonne 'gender'\n",
    "    df['gender'] = df['gender'].map({2: 'F', 1: 'M'})\n",
    "    df = df.drop(df[~df['gender'].isin(['F','M'])].index).reset_index(drop=True)\n",
    "    \n",
    "    # Traitement de la colonne 'year'\n",
    "    df['year'] = df['year'].str.strip()\n",
    "    df = df.drop(df[~df['year'].str.isnumeric()].index).reset_index(drop=True)\n",
    "    df['year'] = df['year'].astype('uint16')\n",
    "    df = df.loc[df['year'].between(1900,2021)].reset_index(drop=True)\n",
    "    \n",
    "    # Traitement de la colonne 'births'\n",
    "    df['births'] = df['births'].astype('uint32')\n",
    "    \n",
    "    # Traitement de la colonne 'name'\n",
    "    df['name'] = df['name'].str.strip()\n",
    "    df['name'] = df['name'].str.title()\n",
    "    a = '[A-ZŠŽŸÀ-ÖØ-Þ]'\n",
    "    b = '[a-zšœžß-öø-ÿ]'\n",
    "    ER = \"(({}{}+)|(({}{}*)(\\'({}{}*))+))(\\-(({}{}*)|(({}{}*)(\\'({}{}*))+)))*\".format(a,b,a,b,a,b,a,b,a,b,a,b)\n",
    "    df = df.loc[df['name'].apply(lambda x: bool(re.fullmatch(ER, x)))].reset_index(drop=True)\n",
    "    \n",
    "    # Tri des données\n",
    "    df = df.sort_values(['year', 'gender', 'births', 'name'], ascending = [True, True, False, True]).reset_index(drop=True)\n",
    "    \n",
    "    return df"
   ]
  },
  {
   "cell_type": "code",
   "execution_count": 9,
   "metadata": {},
   "outputs": [
    {
     "data": {
      "text/html": [
       "<div>\n",
       "<style scoped>\n",
       "    .dataframe tbody tr th:only-of-type {\n",
       "        vertical-align: middle;\n",
       "    }\n",
       "\n",
       "    .dataframe tbody tr th {\n",
       "        vertical-align: top;\n",
       "    }\n",
       "\n",
       "    .dataframe thead th {\n",
       "        text-align: right;\n",
       "    }\n",
       "</style>\n",
       "<table border=\"1\" class=\"dataframe\">\n",
       "  <thead>\n",
       "    <tr style=\"text-align: right;\">\n",
       "      <th></th>\n",
       "      <th>year</th>\n",
       "      <th>name</th>\n",
       "      <th>gender</th>\n",
       "      <th>births</th>\n",
       "    </tr>\n",
       "  </thead>\n",
       "  <tbody>\n",
       "    <tr>\n",
       "      <th>0</th>\n",
       "      <td>1900</td>\n",
       "      <td>Marie</td>\n",
       "      <td>F</td>\n",
       "      <td>48713</td>\n",
       "    </tr>\n",
       "    <tr>\n",
       "      <th>1</th>\n",
       "      <td>1900</td>\n",
       "      <td>Jeanne</td>\n",
       "      <td>F</td>\n",
       "      <td>13981</td>\n",
       "    </tr>\n",
       "    <tr>\n",
       "      <th>2</th>\n",
       "      <td>1900</td>\n",
       "      <td>Marguerite</td>\n",
       "      <td>F</td>\n",
       "      <td>8058</td>\n",
       "    </tr>\n",
       "    <tr>\n",
       "      <th>3</th>\n",
       "      <td>1900</td>\n",
       "      <td>Germaine</td>\n",
       "      <td>F</td>\n",
       "      <td>6981</td>\n",
       "    </tr>\n",
       "    <tr>\n",
       "      <th>4</th>\n",
       "      <td>1900</td>\n",
       "      <td>Louise</td>\n",
       "      <td>F</td>\n",
       "      <td>6696</td>\n",
       "    </tr>\n",
       "    <tr>\n",
       "      <th>...</th>\n",
       "      <td>...</td>\n",
       "      <td>...</td>\n",
       "      <td>...</td>\n",
       "      <td>...</td>\n",
       "    </tr>\n",
       "    <tr>\n",
       "      <th>648325</th>\n",
       "      <td>2021</td>\n",
       "      <td>Élyam</td>\n",
       "      <td>M</td>\n",
       "      <td>3</td>\n",
       "    </tr>\n",
       "    <tr>\n",
       "      <th>648326</th>\n",
       "      <td>2021</td>\n",
       "      <td>Énael</td>\n",
       "      <td>M</td>\n",
       "      <td>3</td>\n",
       "    </tr>\n",
       "    <tr>\n",
       "      <th>648327</th>\n",
       "      <td>2021</td>\n",
       "      <td>Éros</td>\n",
       "      <td>M</td>\n",
       "      <td>3</td>\n",
       "    </tr>\n",
       "    <tr>\n",
       "      <th>648328</th>\n",
       "      <td>2021</td>\n",
       "      <td>Étan</td>\n",
       "      <td>M</td>\n",
       "      <td>3</td>\n",
       "    </tr>\n",
       "    <tr>\n",
       "      <th>648329</th>\n",
       "      <td>2021</td>\n",
       "      <td>Évariste</td>\n",
       "      <td>M</td>\n",
       "      <td>3</td>\n",
       "    </tr>\n",
       "  </tbody>\n",
       "</table>\n",
       "<p>648330 rows × 4 columns</p>\n",
       "</div>"
      ],
      "text/plain": [
       "        year        name gender  births\n",
       "0       1900       Marie      F   48713\n",
       "1       1900      Jeanne      F   13981\n",
       "2       1900  Marguerite      F    8058\n",
       "3       1900    Germaine      F    6981\n",
       "4       1900      Louise      F    6696\n",
       "...      ...         ...    ...     ...\n",
       "648325  2021       Élyam      M       3\n",
       "648326  2021       Énael      M       3\n",
       "648327  2021        Éros      M       3\n",
       "648328  2021        Étan      M       3\n",
       "648329  2021    Évariste      M       3\n",
       "\n",
       "[648330 rows x 4 columns]"
      ]
     },
     "execution_count": 9,
     "metadata": {},
     "output_type": "execute_result"
    }
   ],
   "source": [
    "df_fr = df_names_fr()\n",
    "df_fr"
   ]
  },
  {
   "cell_type": "code",
   "execution_count": 10,
   "metadata": {},
   "outputs": [
    {
     "name": "stdout",
     "output_type": "stream",
     "text": [
      "<class 'pandas.core.frame.DataFrame'>\n",
      "RangeIndex: 648330 entries, 0 to 648329\n",
      "Data columns (total 4 columns):\n",
      " #   Column  Non-Null Count   Dtype \n",
      "---  ------  --------------   ----- \n",
      " 0   year    648330 non-null  uint16\n",
      " 1   name    648330 non-null  object\n",
      " 2   gender  648330 non-null  object\n",
      " 3   births  648330 non-null  uint32\n",
      "dtypes: object(2), uint16(1), uint32(1)\n",
      "memory usage: 13.6+ MB\n"
     ]
    }
   ],
   "source": [
    "df_fr.info()"
   ]
  },
  {
   "cell_type": "markdown",
   "metadata": {},
   "source": [
    "## 3. Taux de change\n",
    "\n",
    "On va s'intéresser au dataset des cours des devises de la Banque de France :  http://webstat.banque-france.fr/fr/browseBox.do?node=5385566\n",
    "\n",
    "Les données sont dans le fichier \"Webstat_Export.csv\".\n",
    "\n",
    "L'idée est de charger les données, de les nettoyer et de pouvoir accéder aux cours de certaines devises à partir de leur code ISO3. On retiendra uniquement les colonnes se terminant effectivement par un code ISO3 entre parenthèses. Par ex., \"Dollar des Etats-Unis (USD)\".\n",
    "\n",
    "Implémenter une fonction `df_taux_change()` qui produit un DataFrame avec les taux de change par date pour une liste de codes ISO3 de devises passée en argument. L'index du DataFrame doit correspondre aux dates (voir la fonction `pd.to_datetime()` avec le format`\"%d/%m/%Y\"`) et doit être trié par ordre croissant. Les colonnes du DataFrame doivent correspondre aux devises sélectionnées."
   ]
  },
  {
   "cell_type": "code",
   "execution_count": 11,
   "metadata": {},
   "outputs": [],
   "source": [
    "# taux de change\n",
    "def df_taux_change(devises):\n",
    "    \n",
    "    df = pd.read_csv('Webstat_Export.csv', sep=';')\n",
    "\n",
    "    import re\n",
    "    \n",
    "    df = df.drop(index=[0,2,3,4])\n",
    "    df = df.set_index(df.columns[0])\n",
    "    df = df.loc[:,df.iloc[0,:].apply(lambda x: bool(re.fullmatch('.*\\([A-Z]{3}\\)', x)))]\n",
    "    df.iloc[0,:] = df.iloc[0,:].apply(lambda x: x[-4:-1])\n",
    "    df.columns = df.iloc[0,:]\n",
    "    df = df.iloc[1:,:]\n",
    "    df.index.name = 'Date'\n",
    "    df.columns.name = 'ISO3'\n",
    "    df.index = pd.to_datetime(df.index, format=\"%d/%m/%Y\")\n",
    "    df = df.sort_index(ascending=True)\n",
    "\n",
    "    df = df.apply(lambda x: x.str.replace(',', '.'))\n",
    "    df = df.apply(lambda x: pd.to_numeric(x, errors='coerce') )\n",
    "    df = df.astype('float')\n",
    "    \n",
    "    df = df.loc[:,devises]\n",
    "    df= df.dropna()\n",
    "    \n",
    "    return df"
   ]
  },
  {
   "cell_type": "code",
   "execution_count": 12,
   "metadata": {},
   "outputs": [
    {
     "data": {
      "text/html": [
       "<div>\n",
       "<style scoped>\n",
       "    .dataframe tbody tr th:only-of-type {\n",
       "        vertical-align: middle;\n",
       "    }\n",
       "\n",
       "    .dataframe tbody tr th {\n",
       "        vertical-align: top;\n",
       "    }\n",
       "\n",
       "    .dataframe thead th {\n",
       "        text-align: right;\n",
       "    }\n",
       "</style>\n",
       "<table border=\"1\" class=\"dataframe\">\n",
       "  <thead>\n",
       "    <tr style=\"text-align: right;\">\n",
       "      <th>ISO3</th>\n",
       "      <th>CHF</th>\n",
       "      <th>GBP</th>\n",
       "      <th>USD</th>\n",
       "    </tr>\n",
       "    <tr>\n",
       "      <th>Date</th>\n",
       "      <th></th>\n",
       "      <th></th>\n",
       "      <th></th>\n",
       "    </tr>\n",
       "  </thead>\n",
       "  <tbody>\n",
       "    <tr>\n",
       "      <th>1999-01-04</th>\n",
       "      <td>1.6168</td>\n",
       "      <td>0.71110</td>\n",
       "      <td>1.1789</td>\n",
       "    </tr>\n",
       "    <tr>\n",
       "      <th>1999-01-05</th>\n",
       "      <td>1.6123</td>\n",
       "      <td>0.71220</td>\n",
       "      <td>1.1790</td>\n",
       "    </tr>\n",
       "    <tr>\n",
       "      <th>1999-01-06</th>\n",
       "      <td>1.6116</td>\n",
       "      <td>0.70760</td>\n",
       "      <td>1.1743</td>\n",
       "    </tr>\n",
       "    <tr>\n",
       "      <th>1999-01-07</th>\n",
       "      <td>1.6165</td>\n",
       "      <td>0.70585</td>\n",
       "      <td>1.1632</td>\n",
       "    </tr>\n",
       "    <tr>\n",
       "      <th>1999-01-08</th>\n",
       "      <td>1.6138</td>\n",
       "      <td>0.70940</td>\n",
       "      <td>1.1659</td>\n",
       "    </tr>\n",
       "    <tr>\n",
       "      <th>...</th>\n",
       "      <td>...</td>\n",
       "      <td>...</td>\n",
       "      <td>...</td>\n",
       "    </tr>\n",
       "    <tr>\n",
       "      <th>2022-09-14</th>\n",
       "      <td>0.9612</td>\n",
       "      <td>0.86498</td>\n",
       "      <td>0.9990</td>\n",
       "    </tr>\n",
       "    <tr>\n",
       "      <th>2022-09-15</th>\n",
       "      <td>0.9572</td>\n",
       "      <td>0.86934</td>\n",
       "      <td>0.9992</td>\n",
       "    </tr>\n",
       "    <tr>\n",
       "      <th>2022-09-16</th>\n",
       "      <td>0.9579</td>\n",
       "      <td>0.87400</td>\n",
       "      <td>0.9954</td>\n",
       "    </tr>\n",
       "    <tr>\n",
       "      <th>2022-09-19</th>\n",
       "      <td>0.9658</td>\n",
       "      <td>0.87785</td>\n",
       "      <td>0.9990</td>\n",
       "    </tr>\n",
       "    <tr>\n",
       "      <th>2022-09-20</th>\n",
       "      <td>0.9644</td>\n",
       "      <td>0.87395</td>\n",
       "      <td>0.9986</td>\n",
       "    </tr>\n",
       "  </tbody>\n",
       "</table>\n",
       "<p>6075 rows × 3 columns</p>\n",
       "</div>"
      ],
      "text/plain": [
       "ISO3           CHF      GBP     USD\n",
       "Date                               \n",
       "1999-01-04  1.6168  0.71110  1.1789\n",
       "1999-01-05  1.6123  0.71220  1.1790\n",
       "1999-01-06  1.6116  0.70760  1.1743\n",
       "1999-01-07  1.6165  0.70585  1.1632\n",
       "1999-01-08  1.6138  0.70940  1.1659\n",
       "...            ...      ...     ...\n",
       "2022-09-14  0.9612  0.86498  0.9990\n",
       "2022-09-15  0.9572  0.86934  0.9992\n",
       "2022-09-16  0.9579  0.87400  0.9954\n",
       "2022-09-19  0.9658  0.87785  0.9990\n",
       "2022-09-20  0.9644  0.87395  0.9986\n",
       "\n",
       "[6075 rows x 3 columns]"
      ]
     },
     "execution_count": 12,
     "metadata": {},
     "output_type": "execute_result"
    }
   ],
   "source": [
    "df_taux_change([\"CHF\", \"GBP\", \"USD\"])"
   ]
  },
  {
   "cell_type": "markdown",
   "metadata": {},
   "source": [
    "### Tests"
   ]
  },
  {
   "cell_type": "code",
   "execution_count": 13,
   "metadata": {},
   "outputs": [],
   "source": [
    "import unittest\n",
    "\n",
    "class Session3Tests(unittest.TestCase):\n",
    "    def test_df_names_us(self):\n",
    "        df = df_names_us()\n",
    "        # colonnes\n",
    "        self.assertEqual(list(df.columns), [\"year\", \"name\", \"gender\", \"births\"])\n",
    "        # lignes\n",
    "        self.assertEqual(len(df), 2052781)\n",
    "        # index\n",
    "        self.assertTrue(isinstance(df.index, pd.core.indexes.range.RangeIndex))\n",
    "        # test NaN\n",
    "        self.assertTrue(df.loc[df.isnull().any(axis=1)].empty)\n",
    "        \n",
    "    def test_df_names_fr(self):\n",
    "        df = df_names_fr()\n",
    "        # colonnes\n",
    "        self.assertEqual(list(df.columns), [\"year\", \"name\", \"gender\", \"births\"])\n",
    "        # lignes\n",
    "        self.assertEqual(len(df), 648330)\n",
    "        # index\n",
    "        self.assertTrue(isinstance(df.index, pd.RangeIndex))\n",
    "        # test names\n",
    "        self.assertTrue(df.loc[df.name.str.contains(r\"^[A-Z]+$\")].empty)\n",
    "        self.assertTrue(df.loc[df.name.str.contains(r\"-[a-z]+$\")].empty)\n",
    "        # test gender\n",
    "        self.assertEqual(len(df), len(df.loc[df.gender==\"F\"]) + len(df.loc[df.gender=='M']))\n",
    "        # test NaN\n",
    "        self.assertTrue(df.loc[df.isnull().any(axis=1)].empty)\n",
    "\n",
    "    def test_df_taux_change(self):\n",
    "        df = df_taux_change([\"CHF\", \"GBP\", \"USD\"])\n",
    "        # colonnes\n",
    "        self.assertEqual(list(df.columns), [\"CHF\", \"GBP\", \"USD\"])\n",
    "        # index\n",
    "        self.assertTrue(isinstance(df.index, pd.DatetimeIndex))\n",
    "        # index trié\n",
    "        self.assertEqual(list(df.index.argsort()), list(range(len(df))))\n",
    "        # types taux\n",
    "        self.assertTrue((df.dtypes == float).all())\n",
    "        # test NaN\n",
    "        self.assertTrue(df.loc[df.isnull().any(axis=1)].empty)"
   ]
  },
  {
   "cell_type": "code",
   "execution_count": 14,
   "metadata": {},
   "outputs": [],
   "source": [
    "# run tests\n",
    "def run_tests():\n",
    "    test_suite = unittest.makeSuite(Session3Tests)\n",
    "    runner = unittest.TextTestRunner(verbosity=2)\n",
    "    runner.run(test_suite)"
   ]
  },
  {
   "cell_type": "code",
   "execution_count": 15,
   "metadata": {},
   "outputs": [
    {
     "name": "stderr",
     "output_type": "stream",
     "text": [
      "test_df_names_fr (__main__.Session3Tests) ... ok\n",
      "test_df_names_us (__main__.Session3Tests) ... ok\n",
      "test_df_taux_change (__main__.Session3Tests) ... ok\n",
      "\n",
      "----------------------------------------------------------------------\n",
      "Ran 3 tests in 18.269s\n",
      "\n",
      "OK\n"
     ]
    }
   ],
   "source": [
    "# run tests\n",
    "run_tests()"
   ]
  }
 ],
 "metadata": {
  "kernelspec": {
   "display_name": "Python 3 (ipykernel)",
   "language": "python",
   "name": "python3"
  },
  "language_info": {
   "codemirror_mode": {
    "name": "ipython",
    "version": 3
   },
   "file_extension": ".py",
   "mimetype": "text/x-python",
   "name": "python",
   "nbconvert_exporter": "python",
   "pygments_lexer": "ipython3",
   "version": "3.10.5"
  }
 },
 "nbformat": 4,
 "nbformat_minor": 4
}

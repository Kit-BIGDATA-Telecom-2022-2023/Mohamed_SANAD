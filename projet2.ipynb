{
 "cells": [
  {
   "cell_type": "markdown",
   "metadata": {},
   "source": [
    "\n",
    "# Projet Maison 2"
   ]
  },
  {
   "cell_type": "code",
   "execution_count": 1,
   "metadata": {
    "scrolled": false
   },
   "outputs": [],
   "source": [
    "# import des modules usuels\n",
    "import numpy as np\n",
    "import pandas as pd\n",
    "\n",
    "# options d'affichage\n",
    "pd.set_option(\"display.min_rows\", 16)"
   ]
  },
  {
   "cell_type": "code",
   "execution_count": 2,
   "metadata": {
    "scrolled": true
   },
   "outputs": [
    {
     "data": {
      "text/html": [
       "<div>\n",
       "<style scoped>\n",
       "    .dataframe tbody tr th:only-of-type {\n",
       "        vertical-align: middle;\n",
       "    }\n",
       "\n",
       "    .dataframe tbody tr th {\n",
       "        vertical-align: top;\n",
       "    }\n",
       "\n",
       "    .dataframe thead th {\n",
       "        text-align: right;\n",
       "    }\n",
       "</style>\n",
       "<table border=\"1\" class=\"dataframe\">\n",
       "  <thead>\n",
       "    <tr style=\"text-align: right;\">\n",
       "      <th></th>\n",
       "      <th>Code Postal</th>\n",
       "      <th>Commune</th>\n",
       "      <th>Département</th>\n",
       "      <th>Région</th>\n",
       "      <th>Statut</th>\n",
       "      <th>Altitude Moyenne</th>\n",
       "      <th>Superficie</th>\n",
       "      <th>Population</th>\n",
       "      <th>geo_point_2d</th>\n",
       "      <th>geo_shape</th>\n",
       "    </tr>\n",
       "    <tr>\n",
       "      <th>Code INSEE</th>\n",
       "      <th></th>\n",
       "      <th></th>\n",
       "      <th></th>\n",
       "      <th></th>\n",
       "      <th></th>\n",
       "      <th></th>\n",
       "      <th></th>\n",
       "      <th></th>\n",
       "      <th></th>\n",
       "      <th></th>\n",
       "    </tr>\n",
       "  </thead>\n",
       "  <tbody>\n",
       "    <tr>\n",
       "      <th>31080</th>\n",
       "      <td>31350</td>\n",
       "      <td>BOULOGNE-SUR-GESSE</td>\n",
       "      <td>HAUTE-GARONNE</td>\n",
       "      <td>MIDI-PYRENEES</td>\n",
       "      <td>Chef-lieu canton</td>\n",
       "      <td>301.0</td>\n",
       "      <td>2470.0</td>\n",
       "      <td>1.6</td>\n",
       "      <td>43.2904403081, 0.650641474176</td>\n",
       "      <td>{\"type\": \"Polygon\", \"coordinates\": [[[0.671852...</td>\n",
       "    </tr>\n",
       "    <tr>\n",
       "      <th>11143</th>\n",
       "      <td>11510</td>\n",
       "      <td>FEUILLA</td>\n",
       "      <td>AUDE</td>\n",
       "      <td>LANGUEDOC-ROUSSILLON</td>\n",
       "      <td>Commune simple</td>\n",
       "      <td>314.0</td>\n",
       "      <td>2426.0</td>\n",
       "      <td>0.1</td>\n",
       "      <td>42.9291375888, 2.90138923544</td>\n",
       "      <td>{\"type\": \"Polygon\", \"coordinates\": [[[2.906996...</td>\n",
       "    </tr>\n",
       "    <tr>\n",
       "      <th>43028</th>\n",
       "      <td>43200</td>\n",
       "      <td>BESSAMOREL</td>\n",
       "      <td>HAUTE-LOIRE</td>\n",
       "      <td>AUVERGNE</td>\n",
       "      <td>Commune simple</td>\n",
       "      <td>888.0</td>\n",
       "      <td>743.0</td>\n",
       "      <td>0.4</td>\n",
       "      <td>45.1306448726, 4.07952494849</td>\n",
       "      <td>{\"type\": \"Polygon\", \"coordinates\": [[[4.091674...</td>\n",
       "    </tr>\n",
       "  </tbody>\n",
       "</table>\n",
       "</div>"
      ],
      "text/plain": [
       "           Code Postal             Commune    Département  \\\n",
       "Code INSEE                                                  \n",
       "31080            31350  BOULOGNE-SUR-GESSE  HAUTE-GARONNE   \n",
       "11143            11510             FEUILLA           AUDE   \n",
       "43028            43200          BESSAMOREL    HAUTE-LOIRE   \n",
       "\n",
       "                          Région            Statut  Altitude Moyenne  \\\n",
       "Code INSEE                                                             \n",
       "31080              MIDI-PYRENEES  Chef-lieu canton             301.0   \n",
       "11143       LANGUEDOC-ROUSSILLON    Commune simple             314.0   \n",
       "43028                   AUVERGNE    Commune simple             888.0   \n",
       "\n",
       "            Superficie  Population                   geo_point_2d  \\\n",
       "Code INSEE                                                          \n",
       "31080           2470.0         1.6  43.2904403081, 0.650641474176   \n",
       "11143           2426.0         0.1   42.9291375888, 2.90138923544   \n",
       "43028            743.0         0.4   45.1306448726, 4.07952494849   \n",
       "\n",
       "                                                    geo_shape  \n",
       "Code INSEE                                                     \n",
       "31080       {\"type\": \"Polygon\", \"coordinates\": [[[0.671852...  \n",
       "11143       {\"type\": \"Polygon\", \"coordinates\": [[[2.906996...  \n",
       "43028       {\"type\": \"Polygon\", \"coordinates\": [[[4.091674...  "
      ]
     },
     "execution_count": 2,
     "metadata": {},
     "output_type": "execute_result"
    }
   ],
   "source": [
    "# chargement et traitement des données\n",
    "GEO = pd.read_csv(\"correspondance-code-insee-code-postal.csv\",\n",
    "                   sep=';',\n",
    "                   usecols=range(11),\n",
    "                   index_col=\"Code INSEE\")\n",
    "\n",
    "# A COMPLETER avec les colonnes\n",
    "# - lat, lon : latitude et longitude des communes\n",
    "# - cp_ville : Code Postal + \" \" + \"Commune\"\n",
    "GEO.head(3)"
   ]
  },
  {
   "cell_type": "markdown",
   "metadata": {},
   "source": [
    "**Partie A**\n",
    "\n",
    "- Compléter le chargement des données en ajoutant au dataframe `GEO`\n",
    "    - les colonnes \"lat\" et \"lon\" avec la latitude et la longitude des communes\n",
    "    - une colonne \"cp_ville\" avec le Code Postal + un espace + et le nom de la Commune\n",
    "- Ecrire une fonction `search_city(lat, lon)` qui retourne le \"cp_ville\" de la commune la plus proche d'un point à partir de sa latitude et sa longitude.\n",
    "- Ecrire une fonction `dms2dec(deg, min, sec)` qui convertit les degrés, minutes, secondes en valeur numérique pour pouvoir utiliser la fonction précédente avec un GPS."
   ]
  },
  {
   "cell_type": "code",
   "execution_count": 3,
   "metadata": {},
   "outputs": [
    {
     "data": {
      "text/html": [
       "<div>\n",
       "<style scoped>\n",
       "    .dataframe tbody tr th:only-of-type {\n",
       "        vertical-align: middle;\n",
       "    }\n",
       "\n",
       "    .dataframe tbody tr th {\n",
       "        vertical-align: top;\n",
       "    }\n",
       "\n",
       "    .dataframe thead th {\n",
       "        text-align: right;\n",
       "    }\n",
       "</style>\n",
       "<table border=\"1\" class=\"dataframe\">\n",
       "  <thead>\n",
       "    <tr style=\"text-align: right;\">\n",
       "      <th></th>\n",
       "      <th>lat</th>\n",
       "      <th>lon</th>\n",
       "      <th>cp_ville</th>\n",
       "    </tr>\n",
       "    <tr>\n",
       "      <th>Code INSEE</th>\n",
       "      <th></th>\n",
       "      <th></th>\n",
       "      <th></th>\n",
       "    </tr>\n",
       "  </thead>\n",
       "  <tbody>\n",
       "    <tr>\n",
       "      <th>31080</th>\n",
       "      <td>43.290440</td>\n",
       "      <td>0.650641</td>\n",
       "      <td>31350 BOULOGNE-SUR-GESSE</td>\n",
       "    </tr>\n",
       "    <tr>\n",
       "      <th>11143</th>\n",
       "      <td>42.929138</td>\n",
       "      <td>2.901389</td>\n",
       "      <td>11510 FEUILLA</td>\n",
       "    </tr>\n",
       "    <tr>\n",
       "      <th>43028</th>\n",
       "      <td>45.130645</td>\n",
       "      <td>4.079525</td>\n",
       "      <td>43200 BESSAMOREL</td>\n",
       "    </tr>\n",
       "    <tr>\n",
       "      <th>78506</th>\n",
       "      <td>48.526763</td>\n",
       "      <td>1.805140</td>\n",
       "      <td>78660 PRUNAY-EN-YVELINES</td>\n",
       "    </tr>\n",
       "    <tr>\n",
       "      <th>84081</th>\n",
       "      <td>43.933779</td>\n",
       "      <td>4.908759</td>\n",
       "      <td>84310 MORIERES-LES-AVIGNON</td>\n",
       "    </tr>\n",
       "  </tbody>\n",
       "</table>\n",
       "</div>"
      ],
      "text/plain": [
       "                  lat       lon                    cp_ville\n",
       "Code INSEE                                                 \n",
       "31080       43.290440  0.650641    31350 BOULOGNE-SUR-GESSE\n",
       "11143       42.929138  2.901389               11510 FEUILLA\n",
       "43028       45.130645  4.079525            43200 BESSAMOREL\n",
       "78506       48.526763  1.805140    78660 PRUNAY-EN-YVELINES\n",
       "84081       43.933779  4.908759  84310 MORIERES-LES-AVIGNON"
      ]
     },
     "execution_count": 3,
     "metadata": {},
     "output_type": "execute_result"
    }
   ],
   "source": [
    "# Ajout des colonnes \"lat\", \"lon\" et \"cp_ville\"\n",
    "GEO['lat'] = GEO['geo_point_2d'].apply(lambda x: float(x.split(', ')[0]))\n",
    "GEO['lon'] = GEO['geo_point_2d'].apply(lambda x: float(x.split(', ')[1]))\n",
    "GEO['cp_ville'] = GEO['Code Postal'] + \" \" + GEO['Commune']\n",
    "\n",
    "# Affichage de ces colonnes (5 premières lignes uniquement)\n",
    "GEO[['lat','lon','cp_ville']].head()"
   ]
  },
  {
   "cell_type": "markdown",
   "metadata": {},
   "source": [
    "###### Formule de Haversine (pour calculer la distance entre deux points quelconques à partir de leurs latitudes et leurs longitudes) :\n",
    "\n",
    "$$D=2R\\arcsin \\left({\\sqrt {\\sin ^{2}{\\left({\\frac {lat_2 - lat_1}{2}}\\right)}+\\cos {(lat_1)}\\cdot \\cos {(lat_2)}\\cdot \\sin ^{2}{\\left({\\frac {lon_2 - lon_1}{2}}\\right)}\\ }}\\right)$$"
   ]
  },
  {
   "cell_type": "code",
   "execution_count": 4,
   "metadata": {
    "scrolled": false
   },
   "outputs": [],
   "source": [
    "# fonction recherche de ville\n",
    "\n",
    "def search_city(lat, long):\n",
    "    \n",
    "    # Cette fonction permet de calculer la distance (en km) entre deux points \n",
    "    # en se basant sur leurs coordonnées respectives (lat1, lon1) et (lat2, lon2)\n",
    "    def distance(lat1, lon1, lat2, lon2):\n",
    "        \n",
    "        import math\n",
    "        R = 6371 # Rayon de la terre en km\n",
    "        phi1 = math.radians(lat1)\n",
    "        phi2 = math.radians(lat2)\n",
    "        dlat = math.radians(lat2-lat1)\n",
    "        dlon = math.radians(lon2-lon1)\n",
    "        ### En utilisant la formule de Haversine ci-dessus\n",
    "        a = math.sin(dlat/2)**2 + (math.cos(phi1))*(math.cos(phi2))*(math.sin(dlon/2)**2)\n",
    "        D = 2 * R * math.asin(math.sqrt(a))\n",
    "\n",
    "        return D\n",
    "    \n",
    "    # \"df\" permet d'affecter à chaque \"cp_ville\" la distance qui le sépare avec le point de coordonnées (lat, long)\n",
    "    # ==> Pour le calcul des distances, on a utilisé la fonction 'distance' ci-dessus\n",
    "    df = pd.concat(\n",
    "        [GEO['cp_ville'], ### Colonne des \"cp_ville\"\n",
    "         GEO.apply(lambda x: distance(lat, long, x.lat, x.lon), axis=1).rename(\"Distance en km\")], ### Colonnes des distances\n",
    "         axis=1).reset_index(drop=True)\n",
    "    \n",
    "    # A partir de \"df\", on peut déduire le \"cp_ville\" de la commune la plus proche du point défini par (lat, long)\n",
    "    cp_ville = df.iloc[df['Distance en km'].idxmin(), 0]\n",
    "    \n",
    "    return cp_ville"
   ]
  },
  {
   "cell_type": "code",
   "execution_count": 5,
   "metadata": {
    "scrolled": false
   },
   "outputs": [],
   "source": [
    "# conversion degrés, minutes, secondes => décimal\n",
    "def dms2dec(deg, mn, sec):\n",
    "    return deg + (mn/60) + (sec/3600)"
   ]
  },
  {
   "cell_type": "code",
   "execution_count": 6,
   "metadata": {
    "scrolled": false
   },
   "outputs": [
    {
     "data": {
      "text/plain": [
       "'71330 BOSJEAN'"
      ]
     },
     "execution_count": 6,
     "metadata": {},
     "output_type": "execute_result"
    }
   ],
   "source": [
    "# on applique la fonction à une coordonnée tirée au hasard\n",
    "np.random.seed(0)\n",
    "a, b = 41.5, 51.1  # latitude min et max de la France métropolitaine\n",
    "lat = np.random.uniform(a, b)\n",
    "a, b = -5.1, 9.5  # longitude min et max de la France métropolitaine\n",
    "lon = np.random.uniform(a, b)\n",
    "\n",
    "search_city(lat, lon)"
   ]
  },
  {
   "cell_type": "code",
   "execution_count": 7,
   "metadata": {
    "scrolled": false
   },
   "outputs": [
    {
     "data": {
      "text/plain": [
       "'91120 PALAISEAU'"
      ]
     },
     "execution_count": 7,
     "metadata": {},
     "output_type": "execute_result"
    }
   ],
   "source": [
    "# à partir de coordonnées GPS précises\n",
    "search_city(dms2dec(48, 42, 52), dms2dec(2, 14, 45))"
   ]
  },
  {
   "cell_type": "markdown",
   "metadata": {},
   "source": [
    "**Partie B**\n",
    "\n",
    "La colonne \"geo_shape\" comporte des chaines de catactères au format JSON. Elles représentent les formes géométriques des communes qui sont soit des polygones soit composées de plusieurs polygones.\n",
    "\n",
    "- Utiliser la librairie Python **json** pour parser les valeurs de la colonne \"geo_shape\" et mettre le résultat (`Series`) dans la variable `GEO_SHAPE`.\n",
    "- Ecrire une fonction `get_types()` qui retourne le décompte (`value_counts()`) des valeurs accédées avec la clé \"type\".\n",
    "- Ecrire une fonction `get_coordinates_len()` qui retourne le décompte (`value_counts()`) des longueurs des listes accédées avec la clé \"coordinates\".\n",
    "- Ecrire une fonction `get_most_complex_city()` qui retourne la commune est constituée du plus grand nombre de polygones ?\n",
    "- Ecrire une fonction `get_nb_cities_2_polygons()` qui retourne  le nombre de villes qui sont de type \"Polygon\" mais dont la longueur des listes accédées avec la clé \"coordinates\" vaut 2 ?\n",
    "- **Facultatif :**\n",
    "- Pour ces villes vérifier que le premier polygone contient bien le second (enclave). NB : on pourra installer la librairie **shapely**, utiliser la classe Polygon de **shapely.geometry**  et la méthode `contains()`. Sur Windows **shapely** peut nécessiter d'installer manuellement la dll \"geos_c.dll\" dans le répertoire \"Library/bin\" de votre environnement Python."
   ]
  },
  {
   "cell_type": "code",
   "execution_count": 8,
   "metadata": {},
   "outputs": [
    {
     "data": {
      "text/plain": [
       "0        {'type': 'Polygon', 'coordinates': [[[0.671852...\n",
       "1        {'type': 'Polygon', 'coordinates': [[[2.906996...\n",
       "2        {'type': 'Polygon', 'coordinates': [[[4.091674...\n",
       "3        {'type': 'Polygon', 'coordinates': [[[1.829610...\n",
       "4        {'type': 'Polygon', 'coordinates': [[[4.927176...\n",
       "5        {'type': 'Polygon', 'coordinates': [[[1.849459...\n",
       "6        {'type': 'Polygon', 'coordinates': [[[-0.71016...\n",
       "7        {'type': 'Polygon', 'coordinates': [[[-0.66124...\n",
       "                               ...                        \n",
       "36734    {'type': 'Polygon', 'coordinates': [[[2.302124...\n",
       "36735    {'type': 'Polygon', 'coordinates': [[[1.205457...\n",
       "36736    {'type': 'Polygon', 'coordinates': [[[3.258096...\n",
       "36737    {'type': 'Polygon', 'coordinates': [[[6.026228...\n",
       "36738    {'type': 'Polygon', 'coordinates': [[[8.106826...\n",
       "36739    {'type': 'Polygon', 'coordinates': [[[4.356584...\n",
       "36740    {'type': 'Polygon', 'coordinates': [[[4.926593...\n",
       "36741    {'type': 'Polygon', 'coordinates': [[[-0.99753...\n",
       "Length: 36742, dtype: object"
      ]
     },
     "execution_count": 8,
     "metadata": {},
     "output_type": "execute_result"
    }
   ],
   "source": [
    "# GEO_SHAPE\n",
    "import json\n",
    "# La variable GEO_SHAPE doit contenir une Serie\n",
    "# correspondant aux valeurs de la colonne \"geo_shape\" parsées avec la librairie json\n",
    "\n",
    "geo_shape_list = []\n",
    "\n",
    "# On parse les valeurs de la colonne \"geo_shape\" (en utilisant 'json.loads') et on les stocke dans une liste 'geo_shape_list'\n",
    "for x in GEO['geo_shape']:\n",
    "    geo_shape_list.append(json.loads(x))\n",
    "\n",
    "# On convertit la liste 'geo_shape_list' en série et on met le résultat dans la variable 'GEO_SHAPE'\n",
    "GEO_SHAPE = pd.Series(geo_shape_list)\n",
    "\n",
    "GEO_SHAPE"
   ]
  },
  {
   "cell_type": "code",
   "execution_count": 9,
   "metadata": {},
   "outputs": [
    {
     "data": {
      "text/plain": [
       "Polygon         36670\n",
       "MultiPolygon       72\n",
       "Name: type, dtype: int64"
      ]
     },
     "execution_count": 9,
     "metadata": {},
     "output_type": "execute_result"
    }
   ],
   "source": [
    "# value_counts des valeurs \"type\"\n",
    "def get_types():\n",
    "    ### On définit une série qui contient les valeurs accédées avec la clé \"type\"\n",
    "    types = pd.DataFrame(list(GEO_SHAPE))['type']\n",
    "    \n",
    "    return types.value_counts()\n",
    "    \n",
    "get_types()"
   ]
  },
  {
   "cell_type": "code",
   "execution_count": 10,
   "metadata": {},
   "outputs": [
    {
     "data": {
      "text/plain": [
       "1    36660\n",
       "2       80\n",
       "3        1\n",
       "4        1\n",
       "Name: coordinates, dtype: int64"
      ]
     },
     "execution_count": 10,
     "metadata": {},
     "output_type": "execute_result"
    }
   ],
   "source": [
    "# value_counts des longueurs de \"coordinates\"\n",
    "def get_coordinates_len():\n",
    "    ### On définit une série qui contient les valeurs accédées avec la clé \"coordinates\"\n",
    "    coordinates = pd.DataFrame(list(GEO_SHAPE))['coordinates']\n",
    "    \n",
    "    return coordinates.str.len().value_counts()\n",
    "     \n",
    "get_coordinates_len()"
   ]
  },
  {
   "cell_type": "code",
   "execution_count": 11,
   "metadata": {},
   "outputs": [
    {
     "data": {
      "text/plain": [
       "'83400 HYERES'"
      ]
     },
     "execution_count": 11,
     "metadata": {},
     "output_type": "execute_result"
    }
   ],
   "source": [
    "# commune constituée du plus grand nombre de polygones\n",
    "def get_most_complex_city():\n",
    "    ### On fusionne les colonnes \"cp_ville\", \"type\" et \"coordinates\"\n",
    "    df = pd.concat([GEO['cp_ville'].reset_index(drop=True), pd.DataFrame(list(GEO_SHAPE))], axis=1)\n",
    "    \n",
    "    return df.iloc[df['coordinates'].str.len().idxmax(), 0]\n",
    "    \n",
    "get_most_complex_city()"
   ]
  },
  {
   "cell_type": "code",
   "execution_count": 12,
   "metadata": {},
   "outputs": [
    {
     "data": {
      "text/plain": [
       "10"
      ]
     },
     "execution_count": 12,
     "metadata": {},
     "output_type": "execute_result"
    }
   ],
   "source": [
    "# nombre de villes qui sont de type \"Polygon\" mais dont la longueur des listes accédées avec la clé \"coordinates\" vaut 2\n",
    "def get_nb_cities_2_polygons():\n",
    "    df = pd.DataFrame(list(GEO_SHAPE))\n",
    "    return len(df.loc[(df['type']==\"Polygon\") & (df['coordinates'].str.len()==2)])\n",
    "    \n",
    "get_nb_cities_2_polygons()"
   ]
  },
  {
   "cell_type": "code",
   "execution_count": 13,
   "metadata": {},
   "outputs": [
    {
     "name": "stdout",
     "output_type": "stream",
     "text": [
      "True\n",
      "True\n",
      "True\n",
      "True\n",
      "True\n",
      "True\n",
      "True\n",
      "True\n",
      "True\n",
      "True\n"
     ]
    }
   ],
   "source": [
    "# Pour ces villes, vérifier que le premier polygone contient bien le second (enclave)\n",
    "from shapely.geometry import Polygon\n",
    "\n",
    "df = pd.concat([GEO['cp_ville'].reset_index(drop=True), pd.DataFrame(list(GEO_SHAPE))], axis=1)\n",
    "df = df.loc[(df['type']==\"Polygon\") & (df['coordinates'].str.len()==2)].reset_index(drop=True)\n",
    "\n",
    "for index, row in df.iterrows():\n",
    "    polyA = Polygon(row['coordinates'][0])   ### Premier polygone\n",
    "    polyB = Polygon(row['coordinates'][0])   ### Deuxième polygone\n",
    "    print(polyA.contains(polyB))   ### On vérifie que polyA contient polyB"
   ]
  },
  {
   "cell_type": "code",
   "execution_count": 14,
   "metadata": {},
   "outputs": [
    {
     "data": {
      "image/png": "[encoded data removed]",
      "text/plain": [
       "<Figure size 432x288 with 1 Axes>"
      ]
     },
     "metadata": {
      "needs_background": "light"
     },
     "output_type": "display_data"
    }
   ],
   "source": [
    "# Pour illustrer ceci, on fait appel au module pyplot de matplotlib\n",
    "import matplotlib.pyplot as plt\n",
    "\n",
    "# Dans cette exemple, on a considéré la première commune (d'indice 0) dans notre liste\n",
    "polyA = Polygon(df['coordinates'][0][0])\n",
    "polyB = Polygon(df['coordinates'][0][1])\n",
    "\n",
    "# L'attribut 'exterior.xy' nous permet d'extraire les coordonnées des sommets d'un polygone\n",
    "# xa et ya sont respectivement les longitudes et les latitudes des sommets de polyA, et elles sont de type 'array'\n",
    "# Même chose pour xb et yb\n",
    "xa,ya = polyA.exterior.xy\n",
    "xb,yb = polyB.exterior.xy\n",
    "\n",
    "plt.plot(xa,ya)\n",
    "plt.plot(xb,yb)\n",
    "\n",
    "plt.show()"
   ]
  },
  {
   "cell_type": "code",
   "execution_count": 15,
   "metadata": {},
   "outputs": [],
   "source": [
    "# tests\n",
    "import unittest\n",
    "\n",
    "class Session2Test(unittest.TestCase):\n",
    "    \n",
    "    def test_partie_A1(self):\n",
    "        # on applique la fonction cherche_ville() à une coordonnée tirée au hasard\n",
    "        np.random.seed(0)\n",
    "        a, b = 41.5, 51.1  # latitude min et max de la France métropolitaine\n",
    "        lat = np.random.uniform(a, b)\n",
    "        a, b = -5.1, 9.5  # longitude min et max de la France métropolitaine\n",
    "        lon = np.random.uniform(a, b)\n",
    "\n",
    "        cp_ville = search_city(lat, lon)\n",
    "        self.assertEqual(cp_ville, \"71330 BOSJEAN\")\n",
    "        \n",
    "    def test_partie_A2(self):\n",
    "        # à partir de coordonnées GPS précises\n",
    "        cp_ville = search_city(dms2dec(48, 42, 52), dms2dec(2, 14, 45))\n",
    "        self.assertEqual(cp_ville, \"91120 PALAISEAU\")\n",
    "        \n",
    "    def test_partie_B1(self):\n",
    "        # check types\n",
    "        dico = get_types()\n",
    "        self.assertEqual(dico[\"Polygon\"], 36670)\n",
    "        self.assertEqual(dico[\"MultiPolygon\"], 72)\n",
    "        \n",
    "    def test_partie_B2(self):\n",
    "        # check coordinates len\n",
    "        dico = get_coordinates_len()\n",
    "        self.assertEqual(dico[1], 36660)\n",
    "        self.assertEqual(dico[2], 80)\n",
    "       \n",
    "    def test_partie_B3(self):\n",
    "        # check most complex city\n",
    "        cp_ville = get_most_complex_city()\n",
    "        self.assertEqual(cp_ville, \"83400 HYERES\")\n",
    "        \n",
    "    def test_partie_B4(self):\n",
    "        # check nb cities 2 polygons\n",
    "        nb = get_nb_cities_2_polygons()\n",
    "        self.assertEqual(nb, 10)"
   ]
  },
  {
   "cell_type": "code",
   "execution_count": 16,
   "metadata": {},
   "outputs": [
    {
     "name": "stderr",
     "output_type": "stream",
     "text": [
      "test_partie_A1 (__main__.Session2Test) ... ok\n",
      "test_partie_A2 (__main__.Session2Test) ... ok\n",
      "test_partie_B1 (__main__.Session2Test) ... ok\n",
      "test_partie_B2 (__main__.Session2Test) ... ok\n",
      "test_partie_B3 (__main__.Session2Test) ... ok\n",
      "test_partie_B4 (__main__.Session2Test) ... ok\n",
      "\n",
      "----------------------------------------------------------------------\n",
      "Ran 6 tests in 1.868s\n",
      "\n",
      "OK\n"
     ]
    }
   ],
   "source": [
    "# run tests\n",
    "def run_tests():\n",
    "    test_suite = unittest.makeSuite(Session2Test)\n",
    "    runner = unittest.TextTestRunner(verbosity=2)\n",
    "    runner.run(test_suite)\n",
    "    \n",
    "run_tests()"
   ]
  }
 ],
 "metadata": {
  "anaconda-cloud": {},
  "kernelspec": {
   "display_name": "Python 3 (ipykernel)",
   "language": "python",
   "name": "python3"
  },
  "language_info": {
   "codemirror_mode": {
    "name": "ipython",
    "version": 3
   },
   "file_extension": ".py",
   "mimetype": "text/x-python",
   "name": "python",
   "nbconvert_exporter": "python",
   "pygments_lexer": "ipython3",
   "version": "3.10.5"
  }
 },
 "nbformat": 4,
 "nbformat_minor": 1
}
